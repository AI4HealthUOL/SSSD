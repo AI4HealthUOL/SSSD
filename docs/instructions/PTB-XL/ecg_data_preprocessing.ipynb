{
 "cells": [
  {
   "cell_type": "code",
   "execution_count": null,
   "metadata": {
    "scrolled": true
   },
   "outputs": [],
   "source": [
    "from clinical_ts.timeseries_utils import *\n",
    "from clinical_ts.ecg_utils import *\n",
    "from pathlib import Path\n",
    "import numpy as np"
   ]
  },
  {
   "cell_type": "markdown",
   "metadata": {},
   "source": [
    "## PTB-XL"
   ]
  },
  {
   "cell_type": "code",
   "execution_count": null,
   "metadata": {},
   "outputs": [],
   "source": [
    "target_fs=100 # sampling rate (100 Hz or 500 Hz)\n",
    "data_folder_ptb_xl = Path(\"./data_folder_ptb_xl/\")\n",
    "target_folder_ptb_xl = Path(\"./processed_ptb_xl_fs\"+str(target_fs)) "
   ]
  },
  {
   "cell_type": "code",
   "execution_count": null,
   "metadata": {},
   "outputs": [],
   "source": [
    "# Prepare the dataset\n",
    "df_ptb_xl, lbl_itos_ptb_xl,  mean_ptb_xl, std_ptb_xl = prepare_data_ptb_xl(data_folder_ptb_xl, min_cnt=0, target_fs=target_fs, channels=12, channel_stoi=channel_stoi_default, target_folder=target_folder_ptb_xl)"
   ]
  },
  {
   "cell_type": "code",
   "execution_count": null,
   "metadata": {},
   "outputs": [],
   "source": [
    "#reformat everything as memmap for efficiency\n",
    "reformat_as_memmap(df_ptb_xl, target_folder_ptb_xl/(\"memmap.npy\"),data_folder=target_folder_ptb_xl,delete_npys=True)"
   ]
  },
  {
   "cell_type": "markdown",
   "metadata": {},
   "source": [
    "## PTB-XL dataloader"
   ]
  },
  {
   "cell_type": "code",
   "execution_count": null,
   "metadata": {},
   "outputs": [],
   "source": [
    "input_size = 1000  # Sample length\n",
    "\n",
    "chunkify_train = False\n",
    "chunk_length_train = input_size if chunkify_train else 0\n",
    "stride_train = input_size\n",
    "        \n",
    "chunkify_valtest = False\n",
    "chunk_length_valtest = input_size if chunkify_valtest else 0\n",
    "stride_valtest = input_size"
   ]
  },
  {
   "cell_type": "code",
   "execution_count": null,
   "metadata": {},
   "outputs": [],
   "source": [
    "df_mapped, lbl_itos,  mean, std = load_dataset(target_folder_ptb_xl)\n",
    "\n",
    "ds_mean = np.array([-0.00184586, -0.00130277,  0.00017031, -0.00091313, -0.00148835,  -0.00174687, -0.00077071, -0.00207407,  0.00054329,  0.00155546,  -0.00114379, -0.00035649])\n",
    "ds_std = np.array([0.16401004, 0.1647168 , 0.23374124, 0.33767231, 0.33362807,  0.30583013, 0.2731171 , 0.27554379, 0.17128962, 0.14030828,   0.14606956, 0.14656108])\n",
    "\n",
    "ptb_xl_label = \"label_diag\" # https://iphome.hhi.de/samek/pdf/WagSciData20.pdf \n",
    "                    \n",
    "lbl_itos= np.array(lbl_itos[ptb_xl_label])\n",
    "def multihot_encode(x, num_classes):\n",
    "    res = np.zeros(num_classes,dtype=np.float32)\n",
    "    for y in x:\n",
    "        res[y]=1\n",
    "    return res\n",
    "df_mapped[\"label\"]= df_mapped[ptb_xl_label+\"_filtered_numeric\"].apply(lambda x: multihot_encode(x,len(lbl_itos)))\n",
    "\n",
    "tfms_ptb_xl_cpc = ToTensor()\n",
    "            \n",
    "max_fold_id = df_mapped.strat_fold.max() \n",
    "df_train = df_mapped[df_mapped.strat_fold<max_fold_id-1]\n",
    "df_val = df_mapped[df_mapped.strat_fold==max_fold_id-1]\n",
    "df_test = df_mapped[df_mapped.strat_fold==max_fold_id]"
   ]
  },
  {
   "cell_type": "code",
   "execution_count": null,
   "metadata": {},
   "outputs": [],
   "source": [
    "# Here are the PTB-XL dataloaders\n",
    "\n",
    "ds_train=TimeseriesDatasetCrops(df_train,input_size,num_classes=len(lbl_itos),data_folder=target_folder_ptb_xl,chunk_length=chunk_length_train,min_chunk_length=input_size, stride=stride_train,transforms=tfms_ptb_xl_cpc,annotation=False,col_lbl =\"label\" ,memmap_filename=target_folder_ptb_xl/(\"memmap.npy\"))\n",
    "ds_val=TimeseriesDatasetCrops(df_val,input_size,num_classes=len(lbl_itos),data_folder=target_folder_ptb_xl,chunk_length=chunk_length_valtest,min_chunk_length=input_size, stride=stride_valtest,transforms=tfms_ptb_xl_cpc,annotation=False,col_lbl =\"label\",memmap_filename=target_folder_ptb_xl/(\"memmap.npy\"))\n",
    "ds_test=TimeseriesDatasetCrops(df_test,input_size,num_classes=len(lbl_itos),data_folder=target_folder_ptb_xl,chunk_length=chunk_length_valtest,min_chunk_length=input_size, stride=stride_valtest,transforms=tfms_ptb_xl_cpc,annotation=False,col_lbl =\"label\",memmap_filename=target_folder_ptb_xl/(\"memmap.npy\"))"
   ]
  }
 ],
 "metadata": {
  "kernelspec": {
   "display_name": "Python 3 (ipykernel)",
   "language": "python",
   "name": "python3"
  },
  "language_info": {
   "codemirror_mode": {
    "name": "ipython",
    "version": 3
   },
   "file_extension": ".py",
   "mimetype": "text/x-python",
   "name": "python",
   "nbconvert_exporter": "python",
   "pygments_lexer": "ipython3",
   "version": "3.10.4"
  }
 },
 "nbformat": 4,
 "nbformat_minor": 2
}
