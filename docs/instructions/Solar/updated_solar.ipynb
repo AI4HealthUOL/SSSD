{
 "cells": [
  {
   "cell_type": "code",
   "execution_count": 9,
   "id": "88c2b4d8",
   "metadata": {},
   "outputs": [],
   "source": [
    "from gluonts.dataset.repository.datasets import get_dataset\n",
    "from gluonts.dataset.multivariate_grouper import MultivariateGrouper\n",
    "import numpy as np\n",
    "from sklearn.preprocessing import StandardScaler\n",
    "from sklearn.metrics import mean_squared_error"
   ]
  },
  {
   "cell_type": "code",
   "execution_count": 10,
   "id": "3b03faf5",
   "metadata": {},
   "outputs": [],
   "source": [
    "dataset = get_dataset('solar_nips', regenerate=False)\n",
    "train_grouper = MultivariateGrouper(max_target_dim=min(2000, int(dataset.metadata.feat_static_cat[0].cardinality)))\n",
    "data = train_grouper(dataset.test)"
   ]
  },
  {
   "cell_type": "code",
   "execution_count": 11,
   "id": "96f32b9d",
   "metadata": {},
   "outputs": [
    {
     "data": {
      "text/plain": [
       "(7177, 137)"
      ]
     },
     "execution_count": 11,
     "metadata": {},
     "output_type": "execute_result"
    }
   ],
   "source": [
    "data = data[0]['target'].transpose(1,0)\n",
    "data.shape"
   ]
  },
  {
   "cell_type": "code",
   "execution_count": 12,
   "id": "1cb42dfd",
   "metadata": {},
   "outputs": [
    {
     "data": {
      "text/plain": [
       "((6985, 137), (192, 137))"
      ]
     },
     "execution_count": 12,
     "metadata": {},
     "output_type": "execute_result"
    }
   ],
   "source": [
    "train = data[:6985, :]\n",
    "test = data[6985:,:]\n",
    "train.shape, test.shape"
   ]
  },
  {
   "cell_type": "code",
   "execution_count": 13,
   "id": "77bcf7b6",
   "metadata": {},
   "outputs": [
    {
     "data": {
      "text/plain": [
       "((6985, 137), (192, 137))"
      ]
     },
     "execution_count": 13,
     "metadata": {},
     "output_type": "execute_result"
    }
   ],
   "source": [
    "scaler = StandardScaler()\n",
    "\n",
    "train_scaled = scaler.fit_transform(train)\n",
    "test_scaled = scaler.transform(test)\n",
    "\n",
    "train_scaled.shape, test_scaled.shape"
   ]
  },
  {
   "cell_type": "code",
   "execution_count": 14,
   "id": "728f4cac",
   "metadata": {},
   "outputs": [
    {
     "data": {
      "text/plain": [
       "((6985, 140), (192, 140))"
      ]
     },
     "execution_count": 14,
     "metadata": {},
     "output_type": "execute_result"
    }
   ],
   "source": [
    "train_scaled_ec = np.zeros((6985,140))\n",
    "train_scaled_ec[:,0:137] = train_scaled\n",
    "train_scaled_ec[:,137:] = train_scaled[:,0:3]\n",
    "\n",
    "test_scaled_ec = np.zeros((192,140))\n",
    "test_scaled_ec[:,0:137] = test_scaled\n",
    "test_scaled_ec[:,137:] = test_scaled[:,0:3]\n",
    "\n",
    "train_scaled_ec.shape, test_scaled_ec.shape"
   ]
  },
  {
   "cell_type": "code",
   "execution_count": 15,
   "id": "5cddfb7e",
   "metadata": {},
   "outputs": [
    {
     "data": {
      "text/plain": [
       "(36, 192, 140)"
      ]
     },
     "execution_count": 15,
     "metadata": {},
     "output_type": "execute_result"
    }
   ],
   "source": [
    "train_scaled_ec_split = np.array(np.split(train_scaled_ec[0:6912], 36, 0))\n",
    "train_scaled_ec_split.shape"
   ]
  },
  {
   "cell_type": "code",
   "execution_count": 18,
   "id": "b325803f",
   "metadata": {},
   "outputs": [
    {
     "data": {
      "text/plain": [
       "(2, 36, 192, 70)"
      ]
     },
     "execution_count": 18,
     "metadata": {},
     "output_type": "execute_result"
    }
   ],
   "source": [
    "train_split = np.array(np.split(train_scaled_ec_split, 2, 2)) # use for training 2 batches of size 36\n",
    "train_split.shape"
   ]
  },
  {
   "cell_type": "code",
   "execution_count": 19,
   "id": "b90778b4",
   "metadata": {},
   "outputs": [
    {
     "data": {
      "text/plain": [
       "(2, 1, 192, 70)"
      ]
     },
     "execution_count": 19,
     "metadata": {},
     "output_type": "execute_result"
    }
   ],
   "source": [
    "test_split = np.array(np.split(np.expand_dims(test_scaled_ec,0), 2, 2)) # user for testing 2 batches of size 1\n",
    "test_split.shape"
   ]
  },
  {
   "cell_type": "code",
   "execution_count": null,
   "id": "8532d7e7",
   "metadata": {},
   "outputs": [],
   "source": []
  },
  {
   "cell_type": "code",
   "execution_count": null,
   "id": "c6de440d",
   "metadata": {},
   "outputs": [],
   "source": [
    "path_to_real1 = ''\n",
    "path_to_real2 = ''\n",
    "\n",
    "path_to_imputation1 = ''\n",
    "path_to_imputation2 = ''"
   ]
  },
  {
   "cell_type": "code",
   "execution_count": null,
   "id": "a524daaa",
   "metadata": {},
   "outputs": [],
   "source": [
    "real1 = np.load(path_to_real1)[0].transpose(1,0)\n",
    "real2 = np.load(path_to_real2)[0].transpose(1,0)\n",
    "\n",
    "impu1 = np.load(path_to_imputation1)[0].transpose(1,0)\n",
    "impu2 = np.load(path_to_imputation2)[0].transpose(1,0)"
   ]
  },
  {
   "cell_type": "code",
   "execution_count": null,
   "id": "63c3d3b8",
   "metadata": {},
   "outputs": [],
   "source": [
    "real = np.concatenate([real1, real2], 1)\n",
    "impu = np.concatenate([impu1, impu2], 1)\n",
    "\n",
    "realun = scaler.inverse_transform(real[:,0:137]) # use only the first 137 (3 were added)\n",
    "impuun = scaler.inverse_transform(impu[:,0:137])"
   ]
  },
  {
   "cell_type": "code",
   "execution_count": null,
   "id": "bff1242c",
   "metadata": {},
   "outputs": [],
   "source": [
    "mean_squared_error(realun[168:,:], impuun[168:,:]) # evaluate only on the forecasted area "
   ]
  }
 ],
 "metadata": {
  "kernelspec": {
   "display_name": "Python 3 (ipykernel)",
   "language": "python",
   "name": "python3"
  },
  "language_info": {
   "codemirror_mode": {
    "name": "ipython",
    "version": 3
   },
   "file_extension": ".py",
   "mimetype": "text/x-python",
   "name": "python",
   "nbconvert_exporter": "python",
   "pygments_lexer": "ipython3",
   "version": "3.10.8"
  }
 },
 "nbformat": 4,
 "nbformat_minor": 5
}
