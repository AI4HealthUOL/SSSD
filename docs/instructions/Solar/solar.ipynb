{
 "cells": [
  {
   "cell_type": "code",
   "execution_count": null,
   "id": "66f84bcc",
   "metadata": {},
   "outputs": [],
   "source": [
    "import numpy as np\n",
    "from sklearn.preprocessing import StandardScaler\n",
    "from gluonts.dataset.repository.datasets import get_dataset\n",
    "from gluonts.dataset.multivariate_grouper import MultivariateGrouper"
   ]
  },
  {
   "cell_type": "markdown",
   "id": "f2369ebf",
   "metadata": {},
   "source": [
    "# Solar"
   ]
  },
  {
   "cell_type": "code",
   "execution_count": null,
   "id": "7ba5146f",
   "metadata": {},
   "outputs": [],
   "source": [
    "dataset = get_dataset(\"solar-energy\", regenerate=False)\n",
    "\n",
    "train_grouper = MultivariateGrouper(max_target_dim=min(2000, int(dataset.metadata.feat_static_cat[0].cardinality)))\n",
    "\n",
    "test_grouper = MultivariateGrouper(num_test_dates=int(len(dataset.test)/len(dataset.train)),\n",
    "                                   max_target_dim=min(2000, int(dataset.metadata.feat_static_cat[0].cardinality)))\n",
    "\n",
    "\n",
    "train = [i for i in train_grouper(dataset.train)]\n",
    "test = [i for i in test_grouper(dataset.test)]\n",
    "train = train[0]['target'].transpose(1,0)\n",
    "test = test[0]['target'].transpose(1,0)\n",
    "data = np.concatenate([train, test], axis=0)\n",
    "data = data[0:14016, 9:]\n",
    "data = np.split(data, 73, 0)\n",
    "data = np.array(data)\n",
    "train = data[0:65]\n",
    "test = data[65:]\n",
    "\n",
    "solar_scaler = StandardScaler()\n",
    "train_scaled = solar_scaler.fit_transform(train.reshape(-1, train.shape[-1])).reshape(train.shape)\n",
    "test_scaled = solar_scaler.transform(test.reshape(-1, test.shape[-1])).reshape(test.shape)\n",
    "\n",
    "train_scaled_batches = np.split(train_scaled, 2, 2)\n",
    "train_scaled_batches = np.array(train_scaled_batches)\n",
    "\n",
    "test_scaled_batches = np.split(test_scaled, 2, 2)\n",
    "test_scaled_batches = np.array(test_scaled_batches)\n",
    "\n",
    "train_scaled_batches.shape, test_scaled_batches.shape"
   ]
  }
 ],
 "metadata": {
  "kernelspec": {
   "display_name": "Python 3 (ipykernel)",
   "language": "python",
   "name": "python3"
  },
  "language_info": {
   "codemirror_mode": {
    "name": "ipython",
    "version": 3
   },
   "file_extension": ".py",
   "mimetype": "text/x-python",
   "name": "python",
   "nbconvert_exporter": "python",
   "pygments_lexer": "ipython3",
   "version": "3.10.4"
  }
 },
 "nbformat": 4,
 "nbformat_minor": 5
}
